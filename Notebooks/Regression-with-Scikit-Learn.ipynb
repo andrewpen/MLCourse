{
 "cells": [
  {
   "cell_type": "markdown",
   "metadata": {},
   "source": [
    "# Automating Regression with Scikit-Learn"
   ]
  },
  {
   "cell_type": "markdown",
   "metadata": {},
   "source": [
    "TO DO\n",
    "- Explain batch, mini-batch, and stochastic gradient descent."
   ]
  },
  {
   "cell_type": "markdown",
   "metadata": {},
   "source": [
    "## Introduction\n",
    "\n",
    "[Scikit-Learn](http://scikit-learn.org/stable/) is a Python library for machine learning. It is powerful, easy to use, and contains a lot of functionality. Perhaps for these reasons, it is also very widely used. Instead of programming models from scratch, we'll plug into Scikit-Learn's functionality. This will make our models more powerful, easier to build and experiment with, faster to deploy, and much more maintainable.\n",
    "\n",
    "In so doing we'll also be able to peer into some of the details of machine learning that will help us understand it better."
   ]
  },
  {
   "cell_type": "code",
   "execution_count": 144,
   "metadata": {
    "collapsed": true
   },
   "outputs": [],
   "source": [
    "# Load up the packages to investigate the data\n",
    "import numpy as np\n",
    "import pandas as pd\n",
    "import matplotlib.pyplot as plt\n",
    "import matplotlib.cm as cm\n",
    "%matplotlib inline\n",
    "import seaborn as sns"
   ]
  },
  {
   "cell_type": "code",
   "execution_count": 202,
   "metadata": {
    "collapsed": true
   },
   "outputs": [],
   "source": [
    "import os\n",
    "# OS-independent way to navigate the file system\n",
    "# Data directory is one directory up in relation to directory of this notebook\n",
    "data_dir_root = os.path.normpath(os.getcwd() + os.sep + os.pardir)\n",
    "data_dir = data_dir_root + os.sep + \"Data\" + os.sep\n",
    "# Where the file is\n",
    "file_url = data_dir + \"food-truck-profits.txt\"\n",
    "# Load the data into a dataframe\n",
    "data = pd.read_csv(file_url, header=None, names=['Population', 'Profit'])"
   ]
  },
  {
   "cell_type": "code",
   "execution_count": 203,
   "metadata": {},
   "outputs": [
    {
     "data": {
      "text/plain": [
       "((97, 1), (97,))"
      ]
     },
     "execution_count": 203,
     "metadata": {},
     "output_type": "execute_result"
    }
   ],
   "source": [
    "# When there's only a single column of data as input, SciKit likes it reshaped into a column vector\n",
    "X_food = data['Population'].values.reshape(-1,1)\n",
    "# y = data['Profit'].values.reshape(-1,1)\n",
    "# SciKit likes the output vector as an array of values\n",
    "y_food = data['Profit'].values\n",
    "X_food.shape, y_food.shape"
   ]
  },
  {
   "cell_type": "code",
   "execution_count": 204,
   "metadata": {},
   "outputs": [
    {
     "data": {
      "text/plain": [
       "array([[ 6.1101],\n",
       "       [ 5.5277],\n",
       "       [ 8.5186],\n",
       "       [ 7.0032],\n",
       "       [ 5.8598]])"
      ]
     },
     "execution_count": 204,
     "metadata": {},
     "output_type": "execute_result"
    }
   ],
   "source": [
    "X_food[0:5]"
   ]
  },
  {
   "cell_type": "code",
   "execution_count": 205,
   "metadata": {},
   "outputs": [
    {
     "data": {
      "text/plain": [
       "array([ 17.592 ,   9.1302,  13.662 ,  11.854 ,   6.8233])"
      ]
     },
     "execution_count": 205,
     "metadata": {},
     "output_type": "execute_result"
    }
   ],
   "source": [
    "y_food[0:5]"
   ]
  },
  {
   "cell_type": "markdown",
   "metadata": {},
   "source": [
    "## Regression with One Feature\n",
    "\n",
    "Let's take the restaurant profit data and use Scikit-Learn to create a regression."
   ]
  },
  {
   "cell_type": "code",
   "execution_count": 147,
   "metadata": {},
   "outputs": [
    {
     "data": {
      "text/plain": [
       "'0.19.0'"
      ]
     },
     "execution_count": 147,
     "metadata": {},
     "output_type": "execute_result"
    }
   ],
   "source": [
    "# Check version\n",
    "import sklearn\n",
    "sklearn.__version__"
   ]
  },
  {
   "cell_type": "code",
   "execution_count": 148,
   "metadata": {
    "collapsed": true
   },
   "outputs": [],
   "source": [
    "# Load up the package\n",
    "from sklearn.linear_model import LinearRegression"
   ]
  },
  {
   "cell_type": "code",
   "execution_count": 206,
   "metadata": {},
   "outputs": [
    {
     "data": {
      "text/plain": [
       "LinearRegression(copy_X=True, fit_intercept=True, n_jobs=1, normalize=False)"
      ]
     },
     "execution_count": 206,
     "metadata": {},
     "output_type": "execute_result"
    }
   ],
   "source": [
    "# Linear regression model with all the Scikit defaults\n",
    "lin_reg = LinearRegression()\n",
    "lin_reg.fit(X_food,y_food)"
   ]
  },
  {
   "cell_type": "code",
   "execution_count": 207,
   "metadata": {},
   "outputs": [
    {
     "data": {
      "text/plain": [
       "[-3.8957808783118502, 1.1930336441895935]"
      ]
     },
     "execution_count": 207,
     "metadata": {},
     "output_type": "execute_result"
    }
   ],
   "source": [
    "# Get the optimal values of the parameters\n",
    "[w_0, w_1] = np.array([lin_reg.intercept_, lin_reg.coef_]).flatten()\n",
    "[w_0, w_1]"
   ]
  },
  {
   "cell_type": "code",
   "execution_count": 209,
   "metadata": {},
   "outputs": [
    {
     "name": "stdout",
     "output_type": "stream",
     "text": [
      "['$33,938', '$26,990', '$62,672', '$44,593', '$30,952']\n"
     ]
    }
   ],
   "source": [
    "# Make predictions -- it's as easy as calling '.predict' on the model\n",
    "# The multiplier of 10000 puts the profits back in terms of the actual values\n",
    "\n",
    "# Here are the profits for the first 5 rows of the dataset\n",
    "profits = (lin_reg.predict(X_food[0:5]) * 10000).flatten()\n",
    "# Format the values to make them easy to read\n",
    "print(['${:5,.0f}'.format(profit) for profit in profits])"
   ]
  },
  {
   "cell_type": "code",
   "execution_count": 210,
   "metadata": {},
   "outputs": [
    {
     "data": {
      "text/plain": [
       "<matplotlib.text.Text at 0x123cc9630>"
      ]
     },
     "execution_count": 210,
     "metadata": {},
     "output_type": "execute_result"
    },
    {
     "data": {
      "image/png": "[encoded data removed]",
      "text/plain": [
       "<matplotlib.figure.Figure at 0x1238f6e48>"
      ]
     },
     "metadata": {},
     "output_type": "display_data"
    }
   ],
   "source": [
    "# What does the regression line look like?\n",
    "# Create 100 equally spaced values going from the minimum value of population \n",
    "# to the maximum value of the population in the dataset.\n",
    "x = np.linspace(data.Population.min(), data.Population.max(), 100)\n",
    "f = (w_0 * 1) + (w_1 * x)\n",
    "\n",
    "fig, ax = plt.subplots(figsize=(8,5))\n",
    "ax.plot(x, f, 'g', label='Prediction')\n",
    "ax.scatter(data.Population, data.Profit, label='Training Data')\n",
    "ax.legend(loc='upper left')\n",
    "ax.set_xlabel('Population')\n",
    "ax.set_ylabel('Profit')\n",
    "ax.set_title('Predicted Profit vs. Population Size')"
   ]
  },
  {
   "cell_type": "code",
   "execution_count": 211,
   "metadata": {},
   "outputs": [
    {
     "data": {
      "text/plain": [
       "0.70203155378413973"
      ]
     },
     "execution_count": 211,
     "metadata": {},
     "output_type": "execute_result"
    }
   ],
   "source": [
    "# This is the famous R-squared value -- not one we'll use directly in this course.\n",
    "lin_reg.score(X_food,y_food)"
   ]
  },
  {
   "cell_type": "markdown",
   "metadata": {},
   "source": [
    "## A Closer Look at Machine Learning"
   ]
  },
  {
   "cell_type": "markdown",
   "metadata": {},
   "source": [
    "The linear regression package we used is simple an clean. But let's dive deeper into how a machine learning algorithm works. By doing so we'll learn more about what it takes to find a model's optimal parameter values."
   ]
  },
  {
   "cell_type": "markdown",
   "metadata": {},
   "source": [
    "The 'SGD' in SGDRegressor below stands for *Stochastic Gradient Descent*. That's a cool but somewhat scary-sounding name. But fear not, the concept of it is easy to understand. (Please see the lecture notes titled 'Batch, Mini-Batch, and Stochastic Gradient Descent' for a complete explanation of these terms.)\n",
    "\n",
    "We're using the SGDRegressor instead of the linear regressor because it allows us to examine the learning algorithm frame by frame if you will. We can play the algorithm like a movie reel and see how it goes about finding the optimal value(s) of the parameters of the model. We'll learn some weird things that"
   ]
  },
  {
   "cell_type": "code",
   "execution_count": 212,
   "metadata": {},
   "outputs": [
    {
     "data": {
      "text/plain": [
       "SGDRegressor(alpha=0.0001, average=False, epsilon=0.1, eta0=1e-05,\n",
       "       fit_intercept=True, l1_ratio=0.15, learning_rate='constant',\n",
       "       loss='squared_loss', max_iter=500, n_iter=None, penalty='l2',\n",
       "       power_t=0.25, random_state=None, shuffle=True, tol=None, verbose=0,\n",
       "       warm_start=False)"
      ]
     },
     "execution_count": 212,
     "metadata": {},
     "output_type": "execute_result"
    }
   ],
   "source": [
    "# The SGDRegressor (stochastic gradient descent) regressor gives us\n",
    "#  control over the number of iterations and amount over the learning rate \n",
    "#  and the number of iterations.\n",
    "from sklearn.linear_model import SGDRegressor\n",
    "# when learning_rate='constant' eta0 -- the starting learning rate -- stays the same for each iteration\n",
    "# learning_rate='invscaling' progressively lowers the learning rate as the number of iterations increase\n",
    "lin_sgd = SGDRegressor(max_iter=500, eta0=0.00001, learning_rate='constant')\n",
    "lin_sgd.fit(X_food,y_food)"
   ]
  },
  {
   "cell_type": "markdown",
   "metadata": {},
   "source": [
    "There are a lot of inputs to SGDRegressor -- the package that does stochastic gradient descent. These inputs determine how the learning algorithm goes about finding the optimal weights for the parameters. The two inputs we're concered with are:\n",
    "- eta0 which is the learning rate -- the size of the step taken in each iteration of gradient descent\n",
    "- max_iter -- the number of times that next step is taken\n",
    "\n",
    "By altering the values of these *hyper-parameters*, we can alter the result that the learning algorithm arrives at."
   ]
  },
  {
   "cell_type": "code",
   "execution_count": 213,
   "metadata": {},
   "outputs": [
    {
     "data": {
      "text/plain": [
       "[-0.25342540995254409, 0.82728307713156257]"
      ]
     },
     "execution_count": 213,
     "metadata": {},
     "output_type": "execute_result"
    }
   ],
   "source": [
    "# lin_sgd.intercept_ and lin_sgd.coef_ are the variables that scikit uses to keep\n",
    "#  track of the optimal values of the parameters.\n",
    "[w_0, w_1] = np.array([lin_sgd.intercept_, lin_sgd.coef_]).flatten()\n",
    "[w_0, w_1]"
   ]
  },
  {
   "cell_type": "code",
   "execution_count": 215,
   "metadata": {},
   "outputs": [
    {
     "name": "stdout",
     "output_type": "stream",
     "text": [
      "['$48,014']\n"
     ]
    }
   ],
   "source": [
    "profits = lin_sgd.predict(X_food[0:1]) * 10000\n",
    "print(['Profit: ${:5,.0f}'.format(profit) for profit in profits])"
   ]
  },
  {
   "cell_type": "markdown",
   "metadata": {},
   "source": [
    "### EXERCISE\n",
    "\n",
    "1. Change eta0 from 0.0001 to 0.1 in a set number of steps. Describe what happens to the predicted profit of the first restaurant in the dataset. Hold the number of iterations at 1000 throughout. What do you conclude about the SGDRegressor model? \n",
    "\n",
    "2. Change the number of iterations from 1 to 1000 in a set number of steps. Describe what happens to the profit of the first restaurant in the dataset. Hold eta0 at 0.0001 throughout. What do you conclude about the SGDRegressor model?"
   ]
  },
  {
   "cell_type": "code",
   "execution_count": 286,
   "metadata": {
    "collapsed": true
   },
   "outputs": [],
   "source": [
    "# Doing the exercise\n",
    "# The model is fit each time with the values of eta_0 and num_iterations\n",
    "from sklearn.linear_model import SGDRegressor\n",
    "def get_results(input_array, output_array, eta_0, num_iterations, num_results=1):\n",
    "    \n",
    "    # num_results are the number of rows of the dataset for which predictions are needed\n",
    "    #  e.g., num_results=3 will give predictions for the first 3 rows of the dataset\n",
    "    \n",
    "    # Load up the SGDRegressor model with the given parameters\n",
    "    sgdR = SGDRegressor(penalty='none', max_iter=num_iterations, learning_rate='constant', eta0=eta_0)\n",
    "    # Fit the model to the inputs and the outputs (the training data)\n",
    "    sgdR.fit(input_array, output_array)\n",
    "    \n",
    "    # Get the parameter values\n",
    "    W = np.array([sgdR.intercept_, sgdR.coef_]).flatten()\n",
    "    \n",
    "    # Get the predicted price(s)\n",
    "    results = sgdR.predict(input_array[0:num_results])\n",
    "    \n",
    "    return [W, results]"
   ]
  },
  {
   "cell_type": "code",
   "execution_count": 229,
   "metadata": {},
   "outputs": [
    {
     "name": "stdout",
     "output_type": "stream",
     "text": [
      "[-0.85399826  0.7251493 ]\n",
      "['$35,767']\n"
     ]
    }
   ],
   "source": [
    "# Test it out\n",
    "[W, results] = get_results(X_food, y_food, 0.01, 1, num_results=1)\n",
    "print(W)\n",
    "print(['${:5,.0f}'.format(result) for result in results])"
   ]
  },
  {
   "cell_type": "code",
   "execution_count": 233,
   "metadata": {},
   "outputs": [
    {
     "name": "stdout",
     "output_type": "stream",
     "text": [
      "[-52.60217537   8.44796427]\n",
      "['$-9,843']\n",
      "[-24.10203214   4.52886942]\n",
      "['$35,698']\n",
      "[ 7997.24410529 -1502.61612195]\n",
      "['$-11,838,907']\n",
      "[ 821.80964569 -289.58121168]\n",
      "['$-9,475,605']\n",
      "[  4.31554577 -12.09475027]\n",
      "['$-695,846']\n"
     ]
    }
   ],
   "source": [
    "# Run the function with the SAME values multiple times\n",
    "# Notice how the profit fluctuates for the exact same input values to the function\n",
    "# This is very worrisome! What's happening???\n",
    "# Hint: It has to do with the \"Stochastic\" in \"Stochastic Gradient Descent\" \n",
    "for i in range(5):\n",
    "    [W, results] = get_results(X_food, y_food, eta_0=0.03, num_iterations=10, num_results=1)\n",
    "    print(W)\n",
    "    print(['${:5,.0f}'.format(result) for result in results])"
   ]
  },
  {
   "cell_type": "markdown",
   "metadata": {},
   "source": [
    "### Profit versus Learning Rate for a Fixed Number of Iterations"
   ]
  },
  {
   "cell_type": "code",
   "execution_count": 255,
   "metadata": {
    "collapsed": true
   },
   "outputs": [],
   "source": [
    "eta0_values = [0.01, 0.003, 0.001, 0.0003, 0.0001]\n",
    "eta0_axis = [str(eta0_val) for eta0_val in eta0_values] # axis labels for the plot\n",
    "results = [get_results(X_food, y_food, eta0_val , 1000, num_results=1) for eta0_val in eta0_values]"
   ]
  },
  {
   "cell_type": "code",
   "execution_count": 256,
   "metadata": {},
   "outputs": [
    {
     "name": "stdout",
     "output_type": "stream",
     "text": [
      "[-4.1290363997023771, -3.8910666916443062, -3.9127867312380733, -3.875404053003062, -3.2133039440024089]\n",
      "[1.0697786675659149, 1.3058026817643726, 1.1773309773964278, 1.151234164955111, 1.1191420281134665]\n",
      "[array([ 24074.18236992]), array([ 40875.18274204]), array([ 32808.23273752]), array([ 31587.51818289]), array([ 36247.65761974])]\n"
     ]
    }
   ],
   "source": [
    "# Get the w0, w1, and profit values\n",
    "w0_values = [results[i][0][0] for i in range(len(results))]\n",
    "w1_values = [results[i][0][1] for i in range(len(results))]\n",
    "profit_values = list([results[i][1] for i in range(len(results))])\n",
    "print(w0_values)\n",
    "print(w1_values)\n",
    "print(profit_values)"
   ]
  },
  {
   "cell_type": "code",
   "execution_count": 257,
   "metadata": {},
   "outputs": [
    {
     "data": {
      "text/plain": [
       "[array([ 24074.18236992]),\n",
       " array([ 40875.18274204]),\n",
       " array([ 32808.23273752]),\n",
       " array([ 31587.51818289]),\n",
       " array([ 36247.65761974])]"
      ]
     },
     "execution_count": 257,
     "metadata": {},
     "output_type": "execute_result"
    }
   ],
   "source": [
    "profit_values"
   ]
  },
  {
   "cell_type": "code",
   "execution_count": 258,
   "metadata": {},
   "outputs": [
    {
     "data": {
      "text/plain": [
       "<matplotlib.text.Text at 0x124246a20>"
      ]
     },
     "execution_count": 258,
     "metadata": {},
     "output_type": "execute_result"
    },
    {
     "data": {
      "image/png": "[encoded data removed]",
      "text/plain": [
       "<matplotlib.figure.Figure at 0x121601cf8>"
      ]
     },
     "metadata": {},
     "output_type": "display_data"
    }
   ],
   "source": [
    "# How the profit changes as the learning rate increases\n",
    "#  Learning faster is not necessarily learning better!\n",
    "fig, ax = plt.subplots(figsize=(8,5))\n",
    "ax.plot(eta0_values, profit_values, 'g')\n",
    "ax.set_xlabel('Learning Rate')\n",
    "ax.set_ylabel('Profit')\n",
    "ax.set_title('Predicted Profit vs. Learning Rate (# Iterations Fixed at 1000)')"
   ]
  },
  {
   "cell_type": "code",
   "execution_count": 259,
   "metadata": {},
   "outputs": [
    {
     "data": {
      "text/plain": [
       "<matplotlib.legend.Legend at 0x124460ba8>"
      ]
     },
     "execution_count": 259,
     "metadata": {},
     "output_type": "execute_result"
    },
    {
     "data": {
      "image/png": "[encoded data removed]",
      "text/plain": [
       "<matplotlib.figure.Figure at 0x124242470>"
      ]
     },
     "metadata": {},
     "output_type": "display_data"
    }
   ],
   "source": [
    "# How the w0 and w1 values change as the learning rate increases\n",
    "fig, ax = plt.subplots(figsize=(8,5))\n",
    "ax.plot(eta0_values, w0_values, 'g', label=\"w0\")\n",
    "ax.plot(eta0_values, w1_values, 'y', label=\"w1\")\n",
    "ax.set_xlabel('Learning Rate')\n",
    "ax.set_ylabel('Parameter Values')\n",
    "ax.set_title('Parameter Values vs. Learning Rate (# Iterations Fixed at 1000)')\n",
    "ax.legend()"
   ]
  },
  {
   "cell_type": "markdown",
   "metadata": {},
   "source": [
    "### Profit versus Number of Iterations (Learning Rate is Fixed)"
   ]
  },
  {
   "cell_type": "code",
   "execution_count": 260,
   "metadata": {
    "collapsed": true
   },
   "outputs": [],
   "source": [
    "iter_values = [1, 10, 50, 100, 250, 500, 1000, 5000]\n",
    "results = [get_results(X_food, y_food, 0.0001 , iter_val) for iter_val in iter_values]"
   ]
  },
  {
   "cell_type": "code",
   "execution_count": 261,
   "metadata": {
    "collapsed": true
   },
   "outputs": [],
   "source": [
    "# Get the w0, w1, and profit values\n",
    "w0_values = [results[i][0][0] for i in range(len(results))]\n",
    "w1_values = [results[i][0][1] for i in range(len(results))]\n",
    "profit_values = [results[i][1] for i in range(len(results))]"
   ]
  },
  {
   "cell_type": "code",
   "execution_count": 262,
   "metadata": {},
   "outputs": [
    {
     "data": {
      "text/plain": [
       "<matplotlib.text.Text at 0x124584080>"
      ]
     },
     "execution_count": 262,
     "metadata": {},
     "output_type": "execute_result"
    },
    {
     "data": {
      "image/png": "[encoded data removed]",
      "text/plain": [
       "<matplotlib.figure.Figure at 0x12449ecc0>"
      ]
     },
     "metadata": {},
     "output_type": "display_data"
    }
   ],
   "source": [
    "# How the profit changes as the num of iterations increase\n",
    "# More iterations are always better (up to a point)\n",
    "fig, ax = plt.subplots(figsize=(8,5))\n",
    "ax.plot(iter_values, profit_values, 'g')\n",
    "ax.set_xlabel('Number of Iterations')\n",
    "ax.set_ylabel('Profit')\n",
    "ax.set_title('Predicted Profit vs. Number of Iterations (Learning Rate Fixed at 0.0001)')"
   ]
  },
  {
   "cell_type": "code",
   "execution_count": 263,
   "metadata": {},
   "outputs": [
    {
     "data": {
      "text/plain": [
       "<matplotlib.legend.Legend at 0x1246e7c50>"
      ]
     },
     "execution_count": 263,
     "metadata": {},
     "output_type": "execute_result"
    },
    {
     "data": {
      "image/png": "[encoded data removed]",
      "text/plain": [
       "<matplotlib.figure.Figure at 0x1244bc5c0>"
      ]
     },
     "metadata": {},
     "output_type": "display_data"
    }
   ],
   "source": [
    "# How the w0 and w1 values change as the number of iterations increase\n",
    "fig, ax = plt.subplots(figsize=(8,5))\n",
    "ax.plot(iter_values, w0_values, 'g', label=\"w0\")\n",
    "ax.plot(iter_values, w1_values, 'y', label=\"w1\")\n",
    "ax.set_xlabel('Number of Iterations')\n",
    "ax.set_ylabel('Parameter Values')\n",
    "ax.set_title('Parameter Values vs. Number of Iterations (Learning Rate Fixed at 0.0001)')\n",
    "ax.legend()"
   ]
  },
  {
   "cell_type": "markdown",
   "metadata": {},
   "source": [
    "## Regression with Multiple Features"
   ]
  },
  {
   "cell_type": "code",
   "execution_count": 264,
   "metadata": {},
   "outputs": [
    {
     "data": {
      "text/html": [
       "<div>\n",
       "<style>\n",
       "    .dataframe thead tr:only-child th {\n",
       "        text-align: right;\n",
       "    }\n",
       "\n",
       "    .dataframe thead th {\n",
       "        text-align: left;\n",
       "    }\n",
       "\n",
       "    .dataframe tbody tr th {\n",
       "        vertical-align: top;\n",
       "    }\n",
       "</style>\n",
       "<table border=\"1\" class=\"dataframe\">\n",
       "  <thead>\n",
       "    <tr style=\"text-align: right;\">\n",
       "      <th></th>\n",
       "      <th>Size</th>\n",
       "      <th>Bedrooms</th>\n",
       "      <th>Price</th>\n",
       "    </tr>\n",
       "  </thead>\n",
       "  <tbody>\n",
       "    <tr>\n",
       "      <th>0</th>\n",
       "      <td>2104</td>\n",
       "      <td>3</td>\n",
       "      <td>399900</td>\n",
       "    </tr>\n",
       "    <tr>\n",
       "      <th>1</th>\n",
       "      <td>1600</td>\n",
       "      <td>3</td>\n",
       "      <td>329900</td>\n",
       "    </tr>\n",
       "    <tr>\n",
       "      <th>2</th>\n",
       "      <td>2400</td>\n",
       "      <td>3</td>\n",
       "      <td>369000</td>\n",
       "    </tr>\n",
       "    <tr>\n",
       "      <th>3</th>\n",
       "      <td>1416</td>\n",
       "      <td>2</td>\n",
       "      <td>232000</td>\n",
       "    </tr>\n",
       "    <tr>\n",
       "      <th>4</th>\n",
       "      <td>3000</td>\n",
       "      <td>4</td>\n",
       "      <td>539900</td>\n",
       "    </tr>\n",
       "  </tbody>\n",
       "</table>\n",
       "</div>"
      ],
      "text/plain": [
       "   Size  Bedrooms   Price\n",
       "0  2104         3  399900\n",
       "1  1600         3  329900\n",
       "2  2400         3  369000\n",
       "3  1416         2  232000\n",
       "4  3000         4  539900"
      ]
     },
     "execution_count": 264,
     "metadata": {},
     "output_type": "execute_result"
    }
   ],
   "source": [
    "# Load the housing prices dataset\n",
    "file_url = data_dir_root + os.sep + \"Data\" + os.sep + \"portland-house-prices.txt\"\n",
    "# Load the data into a dataframe\n",
    "data2 = pd.read_csv(file_url, header=None, names=['Size', 'Bedrooms', 'Price'])\n",
    "data2.head()"
   ]
  },
  {
   "cell_type": "markdown",
   "metadata": {},
   "source": [
    "Because the number of bedrooms is three orders of magnitude lower than the sizes of the houses in square feet, we need to scale the features so they are comparable. We do this using Scikit-Learn's preprocessing functions."
   ]
  },
  {
   "cell_type": "code",
   "execution_count": 265,
   "metadata": {},
   "outputs": [
    {
     "data": {
      "text/plain": [
       "((47, 2), (47,))"
      ]
     },
     "execution_count": 265,
     "metadata": {},
     "output_type": "execute_result"
    }
   ],
   "source": [
    "X = data2.iloc[:,0:2] # Don't have to explicitly reshape it\n",
    "y = data2['Price'].values\n",
    "X.shape, y.shape"
   ]
  },
  {
   "cell_type": "code",
   "execution_count": 266,
   "metadata": {},
   "outputs": [
    {
     "data": {
      "text/plain": [
       "array([[ 0.13141542, -0.22609337],\n",
       "       [-0.5096407 , -0.22609337],\n",
       "       [ 0.5079087 , -0.22609337]])"
      ]
     },
     "execution_count": 266,
     "metadata": {},
     "output_type": "execute_result"
    }
   ],
   "source": [
    "from sklearn.preprocessing import StandardScaler\n",
    "scaler = StandardScaler()\n",
    "X_scaled = scaler.fit_transform(X)\n",
    "X_scaled[0:3]"
   ]
  },
  {
   "cell_type": "code",
   "execution_count": 267,
   "metadata": {},
   "outputs": [
    {
     "data": {
      "text/plain": [
       "LinearRegression(copy_X=True, fit_intercept=True, n_jobs=1, normalize=False)"
      ]
     },
     "execution_count": 267,
     "metadata": {},
     "output_type": "execute_result"
    }
   ],
   "source": [
    "lin_reg_m = LinearRegression()\n",
    "lin_reg_m.fit(X_scaled,y)"
   ]
  },
  {
   "cell_type": "code",
   "execution_count": 268,
   "metadata": {},
   "outputs": [
    {
     "data": {
      "text/plain": [
       "[340412.6595744681, 109447.79646964179, -6578.3548541612608]"
      ]
     },
     "execution_count": 268,
     "metadata": {},
     "output_type": "execute_result"
    }
   ],
   "source": [
    "# Get the optimal values of the parameters\n",
    "w0 = lin_reg_m.intercept_\n",
    "[w1, w2] = lin_reg_m.coef_\n",
    "[w0, w1, w2]"
   ]
  },
  {
   "cell_type": "code",
   "execution_count": 269,
   "metadata": {},
   "outputs": [
    {
     "name": "stdout",
     "output_type": "stream",
     "text": [
      "['$356,283', '$286,121', '$397,489', '$269,244', '$472,278']\n"
     ]
    }
   ],
   "source": [
    "# Make some predictions\n",
    "prices = lin_reg_m.predict(X_scaled[0:5])\n",
    "print(['${:5,.0f}'.format(price) for price in prices.flatten()])"
   ]
  },
  {
   "cell_type": "code",
   "execution_count": 270,
   "metadata": {},
   "outputs": [
    {
     "data": {
      "text/plain": [
       "0.73294501802891421"
      ]
     },
     "execution_count": 270,
     "metadata": {},
     "output_type": "execute_result"
    }
   ],
   "source": [
    "# The traditional R-squared score \n",
    "lin_reg_m.score(X_scaled,y)"
   ]
  },
  {
   "cell_type": "markdown",
   "metadata": {},
   "source": [
    "### SGDRegressor for the housing prices dataset"
   ]
  },
  {
   "cell_type": "code",
   "execution_count": 296,
   "metadata": {},
   "outputs": [
    {
     "name": "stdout",
     "output_type": "stream",
     "text": [
      "14123.2011837 4369.33428353 2223.26724595\n",
      "['$14,195']\n"
     ]
    }
   ],
   "source": [
    "# Run the SGD Regression and get the results\n",
    "# Vary eta_0 and num_iterations to get a feel for how the learning algorithm behaves\n",
    "[[[w0],[w1,w2]],prices] = get_results(X_scaled, y, eta_0=0.0009, num_iterations=1, num_results=1)\n",
    "# Get the w0, w1, w2 parameter values and the price predictions\n",
    "print(w0, w1, w2)\n",
    "print(['${:5,.0f}'.format(price) for price in prices])"
   ]
  },
  {
   "cell_type": "markdown",
   "metadata": {},
   "source": [
    "### Profit versus Learning Rate for a Fixed Number of Iterations"
   ]
  },
  {
   "cell_type": "code",
   "execution_count": 299,
   "metadata": {
    "collapsed": true
   },
   "outputs": [],
   "source": [
    "eta0_values = [0.01, 0.003, 0.001, 0.0003, 0.0001]\n",
    "eta0_axis = [str(eta0_val) for eta0_val in eta0_values] # axis labels for the plot (not necessary)\n",
    "results = [get_results(X_scaled, y, eta0_val , 1000) for eta0_val in eta0_values]"
   ]
  },
  {
   "cell_type": "code",
   "execution_count": 300,
   "metadata": {
    "collapsed": true
   },
   "outputs": [],
   "source": [
    "# Get the w0, w1, w2 parameter values and the price value(s)\n",
    "w0_values = [results[i][0][0] for i in range(len(results))]\n",
    "w1_values = [results[i][0][1][0] for i in range(len(results))]\n",
    "w2_values = [results[i][0][1][1] for i in range(len(results))]\n",
    "price_values = [results[i][1] for i in range(len(results))]"
   ]
  },
  {
   "cell_type": "code",
   "execution_count": 301,
   "metadata": {},
   "outputs": [
    {
     "data": {
      "text/plain": [
       "<matplotlib.text.Text at 0x124835cf8>"
      ]
     },
     "execution_count": 301,
     "metadata": {},
     "output_type": "execute_result"
    },
    {
     "data": {
      "image/png": "[encoded data removed]",
      "text/plain": [
       "<matplotlib.figure.Figure at 0x123c94c18>"
      ]
     },
     "metadata": {},
     "output_type": "display_data"
    }
   ],
   "source": [
    "# How the price changes as the learning rate increases\n",
    "#  Learning faster is not necessarily learning better!\n",
    "fig, ax = plt.subplots(figsize=(8,5))\n",
    "ax.plot(eta0_values, price_values, 'g')\n",
    "ax.set_xlabel('Learning Rate')\n",
    "ax.set_ylabel('House Price')\n",
    "ax.set_title('Predicted House Price vs. Learning Rate (# Iterations Fixed at 1000)')"
   ]
  },
  {
   "cell_type": "code",
   "execution_count": 302,
   "metadata": {},
   "outputs": [
    {
     "data": {
      "text/plain": [
       "<matplotlib.legend.Legend at 0x1249b6e80>"
      ]
     },
     "execution_count": 302,
     "metadata": {},
     "output_type": "execute_result"
    },
    {
     "data": {
      "image/png": "[encoded data removed]",
      "text/plain": [
       "<matplotlib.figure.Figure at 0x12488da20>"
      ]
     },
     "metadata": {},
     "output_type": "display_data"
    }
   ],
   "source": [
    "# How the w0, w1, and w2 values change as the learning rate increases\n",
    "fig, ax = plt.subplots(figsize=(8,5))\n",
    "ax.plot(eta0_values, w0_values, 'g', label=\"w0\")\n",
    "ax.plot(eta0_values, w1_values, 'y', label=\"w1\")\n",
    "ax.plot(eta0_values, w2_values, 'b', label=\"w2\")\n",
    "ax.set_xlabel('Learning Rate')\n",
    "ax.set_ylabel('Parameter Values')\n",
    "ax.set_title('Parameter Values vs. Learning Rate (# Iterations Fixed at 1000)')\n",
    "ax.legend()"
   ]
  },
  {
   "cell_type": "markdown",
   "metadata": {},
   "source": [
    "### House Price versus Number of Iterations (Learning Rate is Fixed)"
   ]
  },
  {
   "cell_type": "code",
   "execution_count": 311,
   "metadata": {
    "collapsed": true
   },
   "outputs": [],
   "source": [
    "iter_values = [1, 10, 50, 100, 250, 500, 1000, 3000]\n",
    "results = [get_results(X_scaled, y, 0.0001 , iter_val) for iter_val in iter_values]"
   ]
  },
  {
   "cell_type": "code",
   "execution_count": 312,
   "metadata": {
    "collapsed": true
   },
   "outputs": [],
   "source": [
    "# Get the w0, w1, w2 parameter values and the price value(s)\n",
    "w0_values = [results[i][0][0] for i in range(len(results))]\n",
    "w1_values = [results[i][0][1][0] for i in range(len(results))]\n",
    "w2_values = [results[i][0][1][1] for i in range(len(results))]\n",
    "price_values = [results[i][1] for i in range(len(results))]"
   ]
  },
  {
   "cell_type": "code",
   "execution_count": 313,
   "metadata": {},
   "outputs": [
    {
     "data": {
      "text/plain": [
       "<matplotlib.text.Text at 0x125043b38>"
      ]
     },
     "execution_count": 313,
     "metadata": {},
     "output_type": "execute_result"
    },
    {
     "data": {
      "image/png": "[encoded data removed]",
      "text/plain": [
       "<matplotlib.figure.Figure at 0x124dd3dd8>"
      ]
     },
     "metadata": {},
     "output_type": "display_data"
    }
   ],
   "source": [
    "# How the house price changes as the num of iterations increase\n",
    "# More iterations are always better (up to a point)\n",
    "fig, ax = plt.subplots(figsize=(8,5))\n",
    "ax.plot(iter_values, price_values, 'g')\n",
    "ax.set_xlabel('Number of Iterations')\n",
    "ax.set_ylabel('House Price')\n",
    "ax.set_title('Predicted House Price vs. Number of Iterations (Learning Rate Fixed at 0.0001)')"
   ]
  },
  {
   "cell_type": "code",
   "execution_count": 314,
   "metadata": {},
   "outputs": [
    {
     "data": {
      "text/plain": [
       "<matplotlib.legend.Legend at 0x1251d1320>"
      ]
     },
     "execution_count": 314,
     "metadata": {},
     "output_type": "execute_result"
    },
    {
     "data": {
      "image/png": "[encoded data removed]",
      "text/plain": [
       "<matplotlib.figure.Figure at 0x12509b748>"
      ]
     },
     "metadata": {},
     "output_type": "display_data"
    }
   ],
   "source": [
    "# How the w0, w1, and w2 values change as the number of iterations increase\n",
    "fig, ax = plt.subplots(figsize=(8,5))\n",
    "ax.plot(iter_values, w0_values, 'g', label=\"w0\")\n",
    "ax.plot(iter_values, w1_values, 'y', label=\"w1\")\n",
    "ax.plot(iter_values, w2_values, 'b', label=\"w2\")\n",
    "ax.set_xlabel('Number of Iterations')\n",
    "ax.set_ylabel('Parameter Values')\n",
    "ax.set_title('Parameter Values vs. Number of Iterations (Learning Rate Fixed at 0.0001)')\n",
    "ax.legend()"
   ]
  },
  {
   "cell_type": "markdown",
   "metadata": {},
   "source": [
    "### QUESTION\n",
    "\n",
    "Why do the iterations look much better (more stable) for the multi-feature regression?"
   ]
  },
  {
   "cell_type": "markdown",
   "metadata": {
    "collapsed": true
   },
   "source": [
    "## Summary and Looking Ahead\n",
    "\n",
    "1. Hyperparameter settings such as the learning rate and the number of iterations control and influence how a learning algorithm arrives at its results.\n",
    "\n",
    "2. Machine learning models depend on these learning algorithms. Therefore, the predictions of machine learning models depend on the particular choices made for the hyperparameter values. As we've seen, model predictions are sensitive to these settings.\n",
    "\n",
    "3. So what are the right settings? It would be those settings that result in the best model.\n",
    "\n",
    "4. What's the best model? It's the one with the best performance.\n",
    "\n",
    "5. So how do we define the performance of a model and how do we measure it? That's what we'll turn to next."
   ]
  },
  {
   "cell_type": "code",
   "execution_count": null,
   "metadata": {
    "collapsed": true
   },
   "outputs": [],
   "source": []
  }
 ],
 "metadata": {
  "kernelspec": {
   "display_name": "Python 3",
   "language": "python",
   "name": "python3"
  },
  "language_info": {
   "codemirror_mode": {
    "name": "ipython",
    "version": 3
   },
   "file_extension": ".py",
   "mimetype": "text/x-python",
   "name": "python",
   "nbconvert_exporter": "python",
   "pygments_lexer": "ipython3",
   "version": "3.6.2"
  }
 },
 "nbformat": 4,
 "nbformat_minor": 2
}
